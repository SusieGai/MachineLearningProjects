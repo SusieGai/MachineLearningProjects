{
 "cells": [
  {
   "cell_type": "code",
   "execution_count": null,
   "id": "97df865e",
   "metadata": {},
   "outputs": [],
   "source": [
    "from sklearn.metrics import accuracy_score, make_scorer\n",
    "optimal_estimator = grid.best_estimator_\n",
    "optimal_params = grid.best_params_\n",
    "score = grid.best_score_\n",
    "output_scores = cross_val_score(grid,test_x, test_y_family, scoring = make_scorer(hamming_loss,greater_is_better=False),cv=10)"
   ]
  },
  {
   "cell_type": "code",
   "execution_count": null,
   "id": "5b8c21dd",
   "metadata": {},
   "outputs": [],
   "source": [
    "from sklearn import svm\n",
    "from sklearn.metrics import accuracy_score\n",
    "from sklearn.model_selection import cross_val_score\n",
    "from sklearn.metrics import hamming_loss\n",
    "\n",
    "exact_match = []\n",
    "exact_match_list = []\n",
    "hamming_loss = []\n",
    "hamming_loss_list = []\n",
    "gamma_list = np.linspace(0.1,2,20)\n",
    "C_list = []\n",
    "k = range(-3,6)\n",
    "for i in k:\n",
    "    C_list.append(10**(i))\n",
    "for ga in gamma_list:\n",
    "    for C in C_list:\n",
    "        clf = svm.SVC(kernel = 'rbf')\n",
    "        clf.fit(train_x,train_y_family)\n",
    "        pred_y_family = clf.predict(test_x)\n",
    "        exact_scores = cross_val_score(clf, test_x, test_y_family, cv=10)\n",
    "        exact_match.append(exact_scores.max())\n",
    "        exact_match_list.append((exact_scores.max(),'Gamma = ',ga,'C = ',C))\n",
    "        hamming = hamming_loss(test_y_family,pred_y_family)\n",
    "        hamming_loss_list\n",
    "res = max(exact_match_list, key = lambda i : i[1])[0]\n",
    "print (res)"
   ]
  },
  {
   "cell_type": "code",
   "execution_count": null,
   "id": "a4d43ad0",
   "metadata": {},
   "outputs": [],
   "source": [
    "clf = svm.SVC(kernel = 'rbf')\n",
    "C_list = []\n",
    "k = range(-2,1)#-3,6\n",
    "for i in k:\n",
    "    C_list.append(10**(i))\n",
    "params = {'C':C_list,'gamma': np.linspace(0.1,2,2)}#(0.1,2,20)\n",
    "grid = GridSearchCV(clf, param_grid = params, cv = 10)\n",
    "grid.fit(train_x, train_y_family)\n",
    "pred_y = grid.predict(test_x)\n",
    "optimal_estimator = grid.best_estimator_\n",
    "optimal_params = grid.best_params_\n",
    "hamming_loss = hamming_loss(test_y_family,pred_y)"
   ]
  },
  {
   "cell_type": "code",
   "execution_count": null,
   "id": "90039553",
   "metadata": {},
   "outputs": [],
   "source": [
    "correct = 0\n",
    "\n",
    "test_y_family = test['Family'].tolist()\n",
    "for i in range(len(test_y_family)):\n",
    "    if test_y_family[i] == pred_y[i]:\n",
    "        correct+=1\n",
    "\n",
    "exact_match = correct/len(test_y_family)\n",
    "exact_match"
   ]
  }
 ],
 "metadata": {
  "kernelspec": {
   "display_name": "Python 3",
   "language": "python",
   "name": "python3"
  },
  "language_info": {
   "codemirror_mode": {
    "name": "ipython",
    "version": 3
   },
   "file_extension": ".py",
   "mimetype": "text/x-python",
   "name": "python",
   "nbconvert_exporter": "python",
   "pygments_lexer": "ipython3",
   "version": "3.8.8"
  }
 },
 "nbformat": 4,
 "nbformat_minor": 5
}
