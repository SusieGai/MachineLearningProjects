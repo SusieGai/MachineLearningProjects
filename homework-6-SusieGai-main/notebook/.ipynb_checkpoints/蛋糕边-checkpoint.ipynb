{
 "cells": [
  {
   "cell_type": "code",
   "execution_count": null,
   "id": "69284bf9",
   "metadata": {},
   "outputs": [],
   "source": [
    "#for i in [x_train, x_test, y_train, y_test]:\n",
    "    #i.reset_index(drop=True, inplace = True)"
   ]
  },
  {
   "cell_type": "code",
   "execution_count": null,
   "id": "2e4a5a6e",
   "metadata": {},
   "outputs": [],
   "source": [
    "accuracy = accuracy_score (y_test,pred)\n",
    "precision=precision_score (y_test,pred)\n",
    "recall= recall_score (y_test,pred)\n",
    "F1_score= f1_score (y_test,pred)\n",
    "AUC= roc_auc_score (y_test,pred)\n",
    "confusion = confusion_matrix(y_test,pred)\n",
    "print ('1. accuracy: ',accuracy)\n",
    "print('2. precision:',precision)\n",
    "print ('3. recall:',recall)\n",
    "print ('4. F1_score:',F1_score)\n",
    "print ('5. AUC:',AUC)\n",
    "print ('6. confusion matrix:')\n",
    "print (confusion)"
   ]
  }
 ],
 "metadata": {
  "kernelspec": {
   "display_name": "Python 3",
   "language": "python",
   "name": "python3"
  },
  "language_info": {
   "codemirror_mode": {
    "name": "ipython",
    "version": 3
   },
   "file_extension": ".py",
   "mimetype": "text/x-python",
   "name": "python",
   "nbconvert_exporter": "python",
   "pygments_lexer": "ipython3",
   "version": "3.8.8"
  }
 },
 "nbformat": 4,
 "nbformat_minor": 5
}
