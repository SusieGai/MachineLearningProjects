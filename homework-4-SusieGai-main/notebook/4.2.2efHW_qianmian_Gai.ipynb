{
  "nbformat": 4,
  "nbformat_minor": 5,
  "metadata": {
    "kernelspec": {
      "display_name": "Python 3",
      "language": "python",
      "name": "python3"
    },
    "language_info": {
      "codemirror_mode": {
        "name": "ipython",
        "version": 3
      },
      "file_extension": ".py",
      "mimetype": "text/x-python",
      "name": "python",
      "nbconvert_exporter": "python",
      "pygments_lexer": "ipython3",
      "version": "3.8.8"
    },
    "colab": {
      "name": "Qianmian_Gai_HW4_2ef.ipynb",
      "provenance": [],
      "collapsed_sections": []
    }
  },
  "cells": [
    {
      "cell_type": "code",
      "metadata": {
        "id": "k8bH_IJJLJ6c"
      },
      "source": [
        ""
      ],
      "id": "k8bH_IJJLJ6c",
      "execution_count": null,
      "outputs": []
    },
    {
      "cell_type": "code",
      "metadata": {
        "id": "ac2b19b1"
      },
      "source": [
        "import warnings\n",
        "warnings.filterwarnings('ignore')\n",
        "import pandas as pd\n",
        "import os\n",
        "from sklearn.impute import SimpleImputer\n",
        "from sklearn import preprocessing\n",
        "import numpy as np\n",
        "import matplotlib.pyplot as plt\n",
        "import seaborn as sns, matplotlib.pyplot as plt, operator as op\n",
        "from sklearn.ensemble import RandomForestClassifier\n",
        "from sklearn.metrics import confusion_matrix, roc_curve, auc\n",
        "import weka.core.converters as converters\n",
        "import weka.core.jvm as jvm"
      ],
      "id": "ac2b19b1",
      "execution_count": 2,
      "outputs": []
    },
    {
      "cell_type": "code",
      "metadata": {
        "colab": {
          "base_uri": "https://localhost:8080/"
        },
        "id": "EJVNd1vxFkv5",
        "outputId": "ac6861dd-2960-4ade-ec80-a80b0b50ef8b"
      },
      "source": [
        "\n",
        "jvm.start(packages=True)\n",
        "import weka.core.packages as packages\n",
        "packages.install_package(\"SMOTE\")"
      ],
      "id": "EJVNd1vxFkv5",
      "execution_count": 4,
      "outputs": [
        {
          "output_type": "stream",
          "name": "stderr",
          "text": [
            "DEBUG:weka.core.jvm:Adding bundled jars\n",
            "DEBUG:weka.core.jvm:Classpath=['/usr/local/lib/python3.7/dist-packages/javabridge/jars/rhino-1.7R4.jar', '/usr/local/lib/python3.7/dist-packages/javabridge/jars/runnablequeue.jar', '/usr/local/lib/python3.7/dist-packages/javabridge/jars/cpython.jar', '/usr/local/lib/python3.7/dist-packages/weka/lib/weka.jar', '/usr/local/lib/python3.7/dist-packages/weka/lib/python-weka-wrapper.jar']\n",
            "DEBUG:weka.core.jvm:MaxHeapSize=default\n",
            "DEBUG:weka.core.jvm:Package support enabled\n"
          ]
        },
        {
          "output_type": "execute_result",
          "data": {
            "text/plain": [
              "True"
            ]
          },
          "metadata": {},
          "execution_count": 4
        }
      ]
    },
    {
      "cell_type": "code",
      "metadata": {
        "id": "T7sl2XpCFN9o"
      },
      "source": [
        ""
      ],
      "id": "T7sl2XpCFN9o",
      "execution_count": null,
      "outputs": []
    },
    {
      "cell_type": "markdown",
      "metadata": {
        "id": "7607660f"
      },
      "source": [
        "## 2. Tree-Based Methods"
      ],
      "id": "7607660f"
    },
    {
      "cell_type": "markdown",
      "metadata": {
        "id": "b38c40a9"
      },
      "source": [
        "### a. Dowload APS data"
      ],
      "id": "b38c40a9"
    },
    {
      "cell_type": "code",
      "metadata": {
        "id": "f6f3c997"
      },
      "source": [
        "APS_train = pd.read_csv('../data/aps_failure_training_set.csv')\n",
        "APS_test = pd.read_csv('../data/aps_failure_test_set.csv')"
      ],
      "id": "f6f3c997",
      "execution_count": 5,
      "outputs": []
    },
    {
      "cell_type": "markdown",
      "metadata": {
        "id": "1fbc661a"
      },
      "source": [
        "### b. Data prep"
      ],
      "id": "1fbc661a"
    },
    {
      "cell_type": "markdown",
      "metadata": {
        "id": "6c6ee65b"
      },
      "source": [
        "#### i.  Missing values"
      ],
      "id": "6c6ee65b"
    },
    {
      "cell_type": "code",
      "metadata": {
        "id": "QH7DaV_i_U0H"
      },
      "source": [
        "APS_train = APS_train.replace('na',np.nan)\n",
        "train_class = APS_train['class']\n",
        "df_mean = SimpleImputer(missing_values = np.nan,strategy = 'median')\n",
        "APS_train_x = df_mean.fit_transform(APS_train.drop('class',axis=1))\n",
        "APS_train_x = pd.DataFrame(df_mean.fit_transform(APS_train_x),columns = APS_train.columns[1:])\n",
        "APS_train_y_df = APS_train['class']\n",
        "APS_train_y_df = APS_train_y_df.replace('neg',-1)\n",
        "APS_train_y_df = APS_train_y_df.replace('pos',1)\n",
        "APS_train_imp = pd.concat([APS_train_x,APS_train_y_df],axis=1)\n",
        "APS_train_y = APS_train_y_df.tolist()\n",
        "\n",
        "APS_test = APS_test.replace('na',np.nan)\n",
        "test_class = APS_test['class']\n",
        "df_mean = SimpleImputer(missing_values = np.nan,strategy = 'median')\n",
        "APS_test_x = df_mean.fit_transform(APS_test.drop('class',axis=1))\n",
        "APS_test_x = pd.DataFrame(APS_test_x,columns = APS_test.columns[1:])\n",
        "APS_test_y_df = APS_test['class']\n",
        "APS_test_y_df = APS_test_y_df.replace('neg',-1)\n",
        "APS_test_y_df = APS_test_y_df.replace('pos',1)\n",
        "APS_test_imp = pd.concat([APS_test_x,APS_test_y_df],axis=1)\n",
        "APS_test_y = APS_test_y_df.tolist()\n",
        "test_class_df = pd.DataFrame(test_class)\n",
        "train_class_df=pd.DataFrame(train_class)\n",
        "APS_train = pd.concat([APS_train_x,train_class_df],axis=1)\n",
        "APS_test = pd.concat([APS_test_x,test_class_df],axis=1)"
      ],
      "id": "QH7DaV_i_U0H",
      "execution_count": 9,
      "outputs": []
    },
    {
      "cell_type": "markdown",
      "metadata": {
        "id": "a56fe56e"
      },
      "source": [
        "### e. Model Trees"
      ],
      "id": "a56fe56e"
    },
    {
      "cell_type": "code",
      "metadata": {
        "id": "ecdb358a"
      },
      "source": [
        "APS_train.to_csv('weka_train.csv', index = False)\n",
        "APS_test.to_csv('weka_test.csv', index = False)"
      ],
      "id": "ecdb358a",
      "execution_count": 10,
      "outputs": []
    },
    {
      "cell_type": "code",
      "metadata": {
        "id": "c8e585d2"
      },
      "source": [
        "from weka.core.converters import Loader\n",
        "loader = Loader(classname = 'weka.core.converters.CSVLoader')\n",
        "train = loader.load_file('weka_train.csv')\n",
        "train.class_is_last()\n",
        "test = loader.load_file('weka_test.csv')\n",
        "test.class_is_last()"
      ],
      "id": "c8e585d2",
      "execution_count": 11,
      "outputs": []
    },
    {
      "cell_type": "markdown",
      "metadata": {
        "id": "xh4HdR8rnNOG"
      },
      "source": [
        "#### LMT on Train Data"
      ],
      "id": "xh4HdR8rnNOG"
    },
    {
      "cell_type": "code",
      "metadata": {
        "id": "9640bb74",
        "colab": {
          "base_uri": "https://localhost:8080/",
          "height": 601
        },
        "outputId": "fd26ac0a-ea0b-47dd-f47f-090953c70ecc"
      },
      "source": [
        "from weka.classifiers import Evaluation, Classifier\n",
        "from weka.core.classes import Random\n",
        "import weka.plot.classifiers as plcls  # NB: matplotlib is required\n",
        "\n",
        "\n",
        "\n",
        "cls = Classifier(classname=\"weka.classifiers.trees.LMT\")\n",
        "evl = Evaluation(train)\n",
        "evl.crossvalidate_model(cls, train, 5, Random(42))\n",
        "\n",
        "print(evl.percent_correct)\n",
        "print(evl.summary())\n",
        "print(evl.class_details())\n",
        "\n",
        "\n",
        "plcls.plot_roc(evl, class_index=[0, 1], wait=True)\n"
      ],
      "id": "9640bb74",
      "execution_count": 12,
      "outputs": [
        {
          "output_type": "stream",
          "name": "stdout",
          "text": [
            "97.40259740259741\n",
            "\n",
            "Correctly Classified Instances         525               97.4026 %\n",
            "Incorrectly Classified Instances        14                2.5974 %\n",
            "Kappa statistic                          0.4038\n",
            "Mean absolute error                      0.0367\n",
            "Root mean squared error                  0.1534\n",
            "Relative absolute error                 69.731  %\n",
            "Root relative squared error             96.4143 %\n",
            "Total Number of Instances              539     \n",
            "\n",
            "=== Detailed Accuracy By Class ===\n",
            "\n",
            "                 TP Rate  FP Rate  Precision  Recall   F-Measure  MCC      ROC Area  PRC Area  Class\n",
            "                 0.990    0.643    0.983      0.990    0.987      0.410    0.852     0.987     neg\n",
            "                 0.357    0.010    0.500      0.357    0.417      0.410    0.852     0.329     pos\n",
            "Weighted Avg.    0.974    0.626    0.970      0.974    0.972      0.410    0.852     0.970     \n",
            "\n"
          ]
        },
        {
          "output_type": "display_data",
          "data": {
            "image/png": "[encoded data removed]",
            "text/plain": [
              "<Figure size 432x288 with 1 Axes>"
            ]
          },
          "metadata": {
            "needs_background": "light"
          }
        }
      ]
    },
    {
      "cell_type": "code",
      "metadata": {
        "id": "916f4146",
        "colab": {
          "base_uri": "https://localhost:8080/"
        },
        "outputId": "e85c4fb3-7ad7-428e-d96b-afc98b8d9ad7"
      },
      "source": [
        "evl.confusion_matrix"
      ],
      "id": "916f4146",
      "execution_count": 13,
      "outputs": [
        {
          "output_type": "execute_result",
          "data": {
            "text/plain": [
              "array([[520.,   5.],\n",
              "       [  9.,   5.]])"
            ]
          },
          "metadata": {},
          "execution_count": 13
        }
      ]
    },
    {
      "cell_type": "markdown",
      "metadata": {
        "id": "66olu129nZ8S"
      },
      "source": [
        "#### LMT on Test Data"
      ],
      "id": "66olu129nZ8S"
    },
    {
      "cell_type": "code",
      "metadata": {
        "colab": {
          "base_uri": "https://localhost:8080/",
          "height": 601
        },
        "id": "ujH5KrlVHA0Q",
        "outputId": "7f22180f-0f91-4766-cba5-ef4cd565bb94"
      },
      "source": [
        "cls_ = Classifier(classname=\"weka.classifiers.trees.LMT\")\n",
        "evl_ = Evaluation(test)\n",
        "evl_.crossvalidate_model(cls_, test, 5, Random(42))\n",
        "\n",
        "print(evl_.percent_correct)\n",
        "print(evl_.summary())\n",
        "print(evl_.class_details())\n",
        "\n",
        "\n",
        "plcls.plot_roc(evl_, class_index=[0, 1], wait=True)"
      ],
      "id": "ujH5KrlVHA0Q",
      "execution_count": 22,
      "outputs": [
        {
          "output_type": "stream",
          "name": "stdout",
          "text": [
            "99.04761904761905\n",
            "\n",
            "Correctly Classified Instances         208               99.0476 %\n",
            "Incorrectly Classified Instances         2                0.9524 %\n",
            "Kappa statistic                          0     \n",
            "Mean absolute error                      0.4003\n",
            "Root mean squared error                  0.4472\n",
            "Relative absolute error               1627.621  %\n",
            "Root relative squared error            457.8426 %\n",
            "Total Number of Instances              210     \n",
            "\n",
            "=== Detailed Accuracy By Class ===\n",
            "\n",
            "                 TP Rate  FP Rate  Precision  Recall   F-Measure  MCC      ROC Area  PRC Area  Class\n",
            "                 1.000    1.000    0.990      1.000    0.995      ?        0.601     0.992     neg\n",
            "                 0.000    0.000    ?          0.000    ?          ?        0.601     0.012     pos\n",
            "Weighted Avg.    0.990    0.990    ?          0.990    ?          ?        0.601     0.983     \n",
            "\n"
          ]
        },
        {
          "output_type": "display_data",
          "data": {
            "image/png": "[encoded data removed]",
            "text/plain": [
              "<Figure size 432x288 with 1 Axes>"
            ]
          },
          "metadata": {
            "needs_background": "light"
          }
        }
      ]
    },
    {
      "cell_type": "code",
      "metadata": {
        "colab": {
          "base_uri": "https://localhost:8080/"
        },
        "id": "UaNR2BACnhFl",
        "outputId": "e6a674f1-41d1-43a4-f9f6-5fc68d2fafea"
      },
      "source": [
        "evl_.confusion_matrix"
      ],
      "id": "UaNR2BACnhFl",
      "execution_count": 23,
      "outputs": [
        {
          "output_type": "execute_result",
          "data": {
            "text/plain": [
              "array([[208.,   0.],\n",
              "       [  2.,   0.]])"
            ]
          },
          "metadata": {},
          "execution_count": 23
        }
      ]
    },
    {
      "cell_type": "markdown",
      "metadata": {
        "id": "REm5LZmon2zW"
      },
      "source": [
        "### f. SMOTE"
      ],
      "id": "REm5LZmon2zW"
    },
    {
      "cell_type": "code",
      "metadata": {
        "colab": {
          "base_uri": "https://localhost:8080/",
          "height": 601
        },
        "id": "HwGwDC4hnkUh",
        "outputId": "fcd8a63f-aea7-4a8b-ccdd-43d123165cf5"
      },
      "source": [
        "from weka.filters import Filter\n",
        "from weka.classifiers import FilteredClassifier\n",
        "from weka.classifiers import Evaluation, Classifier\n",
        "from weka.core.classes import Random\n",
        "import weka.plot.classifiers as plcls \n",
        "\n",
        "smote = Filter(classname='weka.filters.supervised.instance.SMOTE',options=['-P','1'])\n",
        "\n",
        "cls_s = Classifier(classname=\"weka.classifiers.trees.LMT\")\n",
        "fc = FilteredClassifier()\n",
        "fc.filter = smote\n",
        "fc.classifier = cls_s\n",
        "evl_s = Evaluation(train)\n",
        "evl_s.crossvalidate_model(cls_s, train, 5, Random(42))\n",
        "\n",
        "print(evl_s.percent_correct)\n",
        "print(evl_s.summary())\n",
        "print(evl_s.class_details())\n",
        "\n",
        "\n",
        "plcls.plot_roc(evl_s, class_index=[0, 1], wait=True)\n",
        "\n"
      ],
      "id": "HwGwDC4hnkUh",
      "execution_count": 24,
      "outputs": [
        {
          "output_type": "stream",
          "name": "stdout",
          "text": [
            "97.40259740259741\n",
            "\n",
            "Correctly Classified Instances         525               97.4026 %\n",
            "Incorrectly Classified Instances        14                2.5974 %\n",
            "Kappa statistic                          0.4038\n",
            "Mean absolute error                      0.0367\n",
            "Root mean squared error                  0.1534\n",
            "Relative absolute error                 69.731  %\n",
            "Root relative squared error             96.4143 %\n",
            "Total Number of Instances              539     \n",
            "\n",
            "=== Detailed Accuracy By Class ===\n",
            "\n",
            "                 TP Rate  FP Rate  Precision  Recall   F-Measure  MCC      ROC Area  PRC Area  Class\n",
            "                 0.990    0.643    0.983      0.990    0.987      0.410    0.852     0.987     neg\n",
            "                 0.357    0.010    0.500      0.357    0.417      0.410    0.852     0.329     pos\n",
            "Weighted Avg.    0.974    0.626    0.970      0.974    0.972      0.410    0.852     0.970     \n",
            "\n"
          ]
        },
        {
          "output_type": "display_data",
          "data": {
            "image/png": "[encoded data removed]",
            "text/plain": [
              "<Figure size 432x288 with 1 Axes>"
            ]
          },
          "metadata": {
            "needs_background": "light"
          }
        }
      ]
    },
    {
      "cell_type": "code",
      "metadata": {
        "id": "FqgkJhG-n2Cm",
        "colab": {
          "base_uri": "https://localhost:8080/"
        },
        "outputId": "1db998ea-83f8-475f-8776-5f1f8a0deccc"
      },
      "source": [
        "evl_s.confusion_matrix"
      ],
      "id": "FqgkJhG-n2Cm",
      "execution_count": 19,
      "outputs": [
        {
          "output_type": "execute_result",
          "data": {
            "text/plain": [
              "array([[520.,   5.],\n",
              "       [  9.,   5.]])"
            ]
          },
          "metadata": {},
          "execution_count": 19
        }
      ]
    },
    {
      "cell_type": "code",
      "metadata": {
        "id": "LsjWuLqfyXXz",
        "colab": {
          "base_uri": "https://localhost:8080/",
          "height": 601
        },
        "outputId": "99c93fe7-176b-4686-a733-f83d0af6f6f4"
      },
      "source": [
        "smote_ = Filter(classname='weka.filters.supervised.instance.SMOTE',options=['-P','1'])\n",
        "\n",
        "cls_s_ = Classifier(classname=\"weka.classifiers.trees.LMT\")\n",
        "fc_ = FilteredClassifier()\n",
        "fc_.filter = smote\n",
        "fc_.classifier = cls_s_\n",
        "evl_s_ = Evaluation(test)\n",
        "evl_s_.crossvalidate_model(cls_s_, test, 5, Random(42))\n",
        "\n",
        "print(evl_s_.percent_correct)\n",
        "print(evl.summary())\n",
        "print(evl.class_details())\n",
        "\n",
        "\n",
        "plcls.plot_roc(evl, class_index=[0, 1], wait=True)"
      ],
      "id": "LsjWuLqfyXXz",
      "execution_count": 25,
      "outputs": [
        {
          "output_type": "stream",
          "name": "stdout",
          "text": [
            "99.04761904761905\n",
            "\n",
            "Correctly Classified Instances         525               97.4026 %\n",
            "Incorrectly Classified Instances        14                2.5974 %\n",
            "Kappa statistic                          0.4038\n",
            "Mean absolute error                      0.0367\n",
            "Root mean squared error                  0.1534\n",
            "Relative absolute error                 69.731  %\n",
            "Root relative squared error             96.4143 %\n",
            "Total Number of Instances              539     \n",
            "\n",
            "=== Detailed Accuracy By Class ===\n",
            "\n",
            "                 TP Rate  FP Rate  Precision  Recall   F-Measure  MCC      ROC Area  PRC Area  Class\n",
            "                 0.990    0.643    0.983      0.990    0.987      0.410    0.852     0.987     neg\n",
            "                 0.357    0.010    0.500      0.357    0.417      0.410    0.852     0.329     pos\n",
            "Weighted Avg.    0.974    0.626    0.970      0.974    0.972      0.410    0.852     0.970     \n",
            "\n"
          ]
        },
        {
          "output_type": "display_data",
          "data": {
            "image/png": "[encoded data removed]",
            "text/plain": [
              "<Figure size 432x288 with 1 Axes>"
            ]
          },
          "metadata": {
            "needs_background": "light"
          }
        }
      ]
    },
    {
      "cell_type": "code",
      "metadata": {
        "id": "WGYNDcGXzI9_",
        "colab": {
          "base_uri": "https://localhost:8080/"
        },
        "outputId": "e3b052d6-6180-4ea6-ce0b-eadb82b34d84"
      },
      "source": [
        "evl_s_.confusion_matrix"
      ],
      "id": "WGYNDcGXzI9_",
      "execution_count": 26,
      "outputs": [
        {
          "output_type": "execute_result",
          "data": {
            "text/plain": [
              "array([[208.,   0.],\n",
              "       [  2.,   0.]])"
            ]
          },
          "metadata": {},
          "execution_count": 26
        }
      ]
    },
    {
      "cell_type": "markdown",
      "metadata": {
        "id": "snKJR1aBEmXO"
      },
      "source": [
        "Comparison: Raw data perform better than SMOTE data"
      ],
      "id": "snKJR1aBEmXO"
    },
    {
      "cell_type": "code",
      "metadata": {
        "id": "b4RCXtShExyn"
      },
      "source": [
        ""
      ],
      "id": "b4RCXtShExyn",
      "execution_count": null,
      "outputs": []
    }
  ]
}