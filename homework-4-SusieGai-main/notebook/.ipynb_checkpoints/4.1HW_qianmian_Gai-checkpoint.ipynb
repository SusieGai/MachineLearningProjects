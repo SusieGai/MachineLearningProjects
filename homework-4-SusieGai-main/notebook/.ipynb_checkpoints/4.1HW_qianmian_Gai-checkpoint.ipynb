{
 "cells": [
  {
   "cell_type": "markdown",
   "id": "296cb421",
   "metadata": {},
   "source": [
    "## 1. The LASSO and Boosting for Regression"
   ]
  },
  {
   "cell_type": "markdown",
   "id": "3747e7d8",
   "metadata": {},
   "source": [
    "### a. Download & split data"
   ]
  },
  {
   "cell_type": "code",
   "execution_count": 2,
   "id": "90431461",
   "metadata": {},
   "outputs": [
    {
     "ename": "ModuleNotFoundError",
     "evalue": "No module named 'xgboost'",
     "output_type": "error",
     "traceback": [
      "\u001b[0;31m---------------------------------------------------------------------------\u001b[0m",
      "\u001b[0;31mModuleNotFoundError\u001b[0m                       Traceback (most recent call last)",
      "\u001b[0;32m<ipython-input-2-9baaee09baa4>\u001b[0m in \u001b[0;36m<module>\u001b[0;34m\u001b[0m\n\u001b[1;32m     17\u001b[0m \u001b[0;32mfrom\u001b[0m \u001b[0msklearn\u001b[0m\u001b[0;34m.\u001b[0m\u001b[0mdecomposition\u001b[0m \u001b[0;32mimport\u001b[0m \u001b[0mPCA\u001b[0m\u001b[0;34m\u001b[0m\u001b[0;34m\u001b[0m\u001b[0m\n\u001b[1;32m     18\u001b[0m \u001b[0;32mfrom\u001b[0m \u001b[0msklearn\u001b[0m \u001b[0;32mimport\u001b[0m \u001b[0mmodel_selection\u001b[0m\u001b[0;34m\u001b[0m\u001b[0;34m\u001b[0m\u001b[0m\n\u001b[0;32m---> 19\u001b[0;31m \u001b[0;32mimport\u001b[0m \u001b[0mxgboost\u001b[0m \u001b[0;32mas\u001b[0m \u001b[0mxgb\u001b[0m\u001b[0;34m\u001b[0m\u001b[0;34m\u001b[0m\u001b[0m\n\u001b[0m\u001b[1;32m     20\u001b[0m \u001b[0;32mfrom\u001b[0m \u001b[0msklearn\u001b[0m\u001b[0;34m.\u001b[0m\u001b[0mmodel_selection\u001b[0m \u001b[0;32mimport\u001b[0m \u001b[0mKFold\u001b[0m\u001b[0;34m\u001b[0m\u001b[0;34m\u001b[0m\u001b[0m\n\u001b[1;32m     21\u001b[0m \u001b[0;32mfrom\u001b[0m \u001b[0msklearn\u001b[0m\u001b[0;34m.\u001b[0m\u001b[0mmodel_selection\u001b[0m \u001b[0;32mimport\u001b[0m \u001b[0mRepeatedKFold\u001b[0m\u001b[0;34m\u001b[0m\u001b[0;34m\u001b[0m\u001b[0m\n",
      "\u001b[0;31mModuleNotFoundError\u001b[0m: No module named 'xgboost'"
     ]
    }
   ],
   "source": [
    "import pandas as pd\n",
    "import os\n",
    "from sklearn.impute import SimpleImputer\n",
    "import numpy as np\n",
    "import matplotlib.pyplot as plt\n",
    "from scipy.stats import variation\n",
    "import seaborn as sns, matplotlib.pyplot as plt, operator as op\n",
    "from sklearn.linear_model import LinearRegression\n",
    "from sklearn.metrics import mean_squared_error \n",
    "from sklearn import linear_model\n",
    "from sklearn.linear_model import RidgeCV\n",
    "from sklearn.linear_model import LassoCV\n",
    "import warnings\n",
    "warnings.filterwarnings('ignore')\n",
    "from sklearn import preprocessing\n",
    "from sklearn.feature_selection import SelectFromModel\n",
    "from sklearn.decomposition import PCA\n",
    "from sklearn import model_selection\n",
    "import xgboost\n",
    "from sklearn.model_selection import KFold\n",
    "from sklearn.model_selection import RepeatedKFold"
   ]
  },
  {
   "cell_type": "code",
   "execution_count": null,
   "id": "6028fa4b",
   "metadata": {},
   "outputs": [],
   "source": [
    "header_file = open ('../data/communities_headers.csv')"
   ]
  },
  {
   "cell_type": "code",
   "execution_count": null,
   "id": "b8db951d",
   "metadata": {},
   "outputs": [],
   "source": [
    "headers=[]\n",
    "for line in header_file:\n",
    "    if '@attribute' in line:\n",
    "        line = line.split(' ')\n",
    "        headers.append(line[1])"
   ]
  },
  {
   "cell_type": "code",
   "execution_count": null,
   "id": "4fd75269",
   "metadata": {},
   "outputs": [],
   "source": [
    "CC = pd.read_csv('../data/communities.csv', names = headers)"
   ]
  },
  {
   "cell_type": "code",
   "execution_count": null,
   "id": "417cc312",
   "metadata": {},
   "outputs": [],
   "source": [
    "CC_descriptive = CC.drop(columns = ['state','county','community','communityname','fold'],axis = 1)\n",
    "CC_train = CC_descriptive[:1495]\n",
    "CC_test = CC_descriptive[1495:]"
   ]
  },
  {
   "cell_type": "markdown",
   "id": "1b7c8a31",
   "metadata": {},
   "source": [
    "### b. Data imputation"
   ]
  },
  {
   "cell_type": "code",
   "execution_count": null,
   "id": "9955a93e",
   "metadata": {},
   "outputs": [],
   "source": [
    "CC_train = CC_train.replace('?',np.nan)\n",
    "df_mean = SimpleImputer(missing_values=np.nan, strategy='mean',axis=1)\n",
    "CC_train_imp = df_mean.fit_transform(CC_train)\n",
    "CC_train_imp = pd.DataFrame(CC_train_imp,columns = CC_train.columns)"
   ]
  },
  {
   "cell_type": "code",
   "execution_count": null,
   "id": "47301b82",
   "metadata": {},
   "outputs": [],
   "source": [
    "CC_test = CC_test.replace('?',np.nan)\n",
    "df_mean = SimpleImputer(missing_values=np.nan, strategy='mean')\n",
    "CC_test_imp = df_mean.fit_transform(CC_test)\n",
    "CC_test_imp = pd.DataFrame(CC_test_imp, columns = CC_test.columns)"
   ]
  },
  {
   "cell_type": "code",
   "execution_count": null,
   "id": "e7efc0a9",
   "metadata": {},
   "outputs": [],
   "source": [
    "CC_imp = pd.concat([CC_train_imp,CC_test_imp])\n",
    "CC_imp = CC_imp.reset_index(drop=True)"
   ]
  },
  {
   "cell_type": "markdown",
   "id": "77db397d",
   "metadata": {},
   "source": [
    "### c. Correlation matrix"
   ]
  },
  {
   "cell_type": "code",
   "execution_count": null,
   "id": "10cac1a5",
   "metadata": {},
   "outputs": [],
   "source": [
    "CC_imp_corr = CC_imp.corr()\n",
    "CC_imp_corr"
   ]
  },
  {
   "cell_type": "code",
   "execution_count": null,
   "id": "da75d63a",
   "metadata": {},
   "outputs": [],
   "source": [
    "plt.matshow(CC_imp_corr)"
   ]
  },
  {
   "cell_type": "markdown",
   "id": "1bd0f89e",
   "metadata": {},
   "source": [
    "### d. Coefficient of variation CV"
   ]
  },
  {
   "cell_type": "code",
   "execution_count": null,
   "id": "d989ab53",
   "metadata": {},
   "outputs": [],
   "source": [
    "#define function to calculate cv\n",
    "cv = lambda x: np.std(x, ddof=1) / np.mean(x) * 100 \n",
    "CC_CV = CC_imp.apply(cv)\n",
    "CC_CV = pd.DataFrame(CC_CV, columns = ['CV'])\n",
    "CC_CV"
   ]
  },
  {
   "cell_type": "markdown",
   "id": "54db39aa",
   "metadata": {},
   "source": [
    "### e. Sort, pick (128)^(1/2) ,scatterplots"
   ]
  },
  {
   "cell_type": "code",
   "execution_count": null,
   "id": "21fa2514",
   "metadata": {},
   "outputs": [],
   "source": [
    "num = int((128)**(1/2))"
   ]
  },
  {
   "cell_type": "code",
   "execution_count": null,
   "id": "9c1e6288",
   "metadata": {},
   "outputs": [],
   "source": [
    "CC_CV_highest11 = CC_CV.sort_values(by = ['CV'], ascending=False)[:11]\n",
    "#CC_CV_highest11 = CC_CV_highest.iloc[:11]\n",
    "CC_CV_highest11"
   ]
  },
  {
   "cell_type": "code",
   "execution_count": null,
   "id": "db912263",
   "metadata": {
    "scrolled": true
   },
   "outputs": [],
   "source": [
    "highest11_CV_name = CC_CV_highest11.index.tolist()\n",
    "CC_highest11 = CC_imp[highest11_CV_name]\n",
    "CC_highest11"
   ]
  },
  {
   "cell_type": "markdown",
   "id": "d0a71828",
   "metadata": {},
   "source": [
    "#### scatter plot"
   ]
  },
  {
   "cell_type": "code",
   "execution_count": null,
   "id": "f87e9d55",
   "metadata": {
    "scrolled": true
   },
   "outputs": [],
   "source": [
    "sns.pairplot(CC_highest11)"
   ]
  },
  {
   "cell_type": "markdown",
   "id": "76b445ad",
   "metadata": {},
   "source": [
    "Conclusion from scatter plot: all features are correlated with each other. "
   ]
  },
  {
   "cell_type": "markdown",
   "id": "85dff4cc",
   "metadata": {},
   "source": [
    "#### box plots"
   ]
  },
  {
   "cell_type": "code",
   "execution_count": null,
   "id": "a3500ca7",
   "metadata": {
    "scrolled": false
   },
   "outputs": [],
   "source": [
    "box_plot_dict = {}\n",
    "for col in CC_highest11.columns:\n",
    "    box_plot_dict[col] = CC_highest11[col].tolist()\n",
    "for key, val in box_plot_dict.items():\n",
    "    sns.boxplot(x=val).set_title(key)\n",
    "    plt.show()"
   ]
  },
  {
   "cell_type": "markdown",
   "id": "d28e0bc9",
   "metadata": {},
   "source": [
    "### f. Linear model"
   ]
  },
  {
   "cell_type": "code",
   "execution_count": null,
   "id": "5045c026",
   "metadata": {},
   "outputs": [],
   "source": [
    "train_x = CC_train_imp.drop('ViolentCrimesPerPop',axis = 1)\n",
    "train_y = CC_train_imp['ViolentCrimesPerPop'].tolist()\n",
    "test_x = CC_test_imp.drop('ViolentCrimesPerPop',axis = 1)\n",
    "test_y = CC_test_imp['ViolentCrimesPerPop'].tolist()"
   ]
  },
  {
   "cell_type": "code",
   "execution_count": null,
   "id": "ea0b8b36",
   "metadata": {},
   "outputs": [],
   "source": [
    "reg = LinearRegression().fit(train_x,train_y)\n",
    "pred_y = reg.predict(test_x)\n",
    "mean_squared_error(test_y,pred_y)"
   ]
  },
  {
   "cell_type": "markdown",
   "id": "95c8eb6c",
   "metadata": {},
   "source": [
    "### g. Ridge regression"
   ]
  },
  {
   "cell_type": "code",
   "execution_count": null,
   "id": "c5af9b0c",
   "metadata": {},
   "outputs": [],
   "source": [
    "clf = RidgeCV(alphas=[1e-3, 1e-2, 1e-1, 1, 1e+1,1e+2]).fit(train_x, train_y)\n",
    "error_ridge = 1- clf.score(test_x,test_y)\n",
    "error_ridge"
   ]
  },
  {
   "cell_type": "markdown",
   "id": "124e33bd",
   "metadata": {},
   "source": [
    "### h. LASSO"
   ]
  },
  {
   "cell_type": "markdown",
   "id": "567652c7",
   "metadata": {},
   "source": [
    "#### LASSO(raw data)"
   ]
  },
  {
   "cell_type": "code",
   "execution_count": null,
   "id": "d7bc97a5",
   "metadata": {
    "scrolled": true
   },
   "outputs": [],
   "source": [
    "reg = LassoCV(cv=5, random_state=0).fit(train_x,train_y)\n",
    "selector = SelectFromModel(LassoCV(cv=5, random_state=0)).fit(train_x,train_y)\n",
    "selected=selector.get_support()\n",
    "selected=selected.tolist()\n",
    "selected_features = []\n",
    "for i in range(len(selected)):\n",
    "    if selected[i] == True:\n",
    "        selected_features.append(train_x.columns.tolist()[i])\n",
    "error_lasso = 1-reg.score(test_x,test_y)\n",
    "\n",
    "print ('The selected features are ')\n",
    "print (selected_features)\n",
    "print (' ')\n",
    "print ('The test error is')\n",
    "print (error_lasso)"
   ]
  },
  {
   "cell_type": "markdown",
   "id": "23c2df5e",
   "metadata": {},
   "source": [
    "#### LASSO (standardized features)"
   ]
  },
  {
   "cell_type": "code",
   "execution_count": null,
   "id": "c277f4d1",
   "metadata": {},
   "outputs": [],
   "source": [
    "scaler = preprocessing.StandardScaler()\n",
    "scaler.fit(train_x)\n",
    "train_x_standard = scaler.transform(train_x)\n",
    "\n",
    "scaler.fit(test_x)\n",
    "test_x_standard = scaler.transform(test_x)\n",
    "train_x_standard = pd.DataFrame(train_x_standard, columns = train_x.columns.tolist())\n",
    "test_x_standard = pd.DataFrame(test_x_standard, columns = test_x.columns.tolist())\n"
   ]
  },
  {
   "cell_type": "code",
   "execution_count": null,
   "id": "a93e1ad6",
   "metadata": {},
   "outputs": [],
   "source": [
    "reg = LassoCV(cv=5, random_state=0).fit(train_x_standard,train_y)\n",
    "selector = SelectFromModel(LassoCV(cv=5, random_state=0)).fit(train_x_standard,train_y)\n",
    "selected=selector.get_support()\n",
    "selected=selected.tolist()\n",
    "selected_features = []\n",
    "for i in range(len(selected)):\n",
    "    if selected[i] == True:\n",
    "        selected_features.append(train_x_standard.columns.tolist()[i])\n",
    "error_lasso = 1-reg.score(test_x_standard,test_y)\n",
    "\n",
    "print ('The selected features are ')\n",
    "print (selected_features)\n",
    "print (' ')\n",
    "print ('The test error is')\n",
    "print (error_lasso)"
   ]
  },
  {
   "cell_type": "markdown",
   "id": "e324e8d5",
   "metadata": {},
   "source": [
    "Comparison: The test error of standardized LASSO is bigger. "
   ]
  },
  {
   "cell_type": "markdown",
   "id": "e61e46ff",
   "metadata": {},
   "source": [
    "### i. PCR"
   ]
  },
  {
   "cell_type": "code",
   "execution_count": null,
   "id": "4b867cae",
   "metadata": {},
   "outputs": [],
   "source": [
    "#scale predictor variables\n",
    "pca = PCA()\n",
    "reduced_x = pca.fit_transform(train_x)\n",
    "\n",
    "#define cross validation method\n",
    "cv = RepeatedKFold(n_splits=10, n_repeats=3, random_state=1)\n",
    "\n",
    "reg = LinearRegression()\n",
    "mse = []\n",
    "\n",
    "# Calculate MSE with only the intercept\n",
    "score = -1*model_selection.cross_val_score(reg,np.ones((len(reduced_x),1)),train_y, cv=cv, scoring ='neg_mean_squared_error').mean()\n",
    "mse.append(score)\n",
    "\n",
    "# Calculate MSE using cross-validation, adding one component at a time\n",
    "for i in np.arange(1, 123):\n",
    "    score = -1*model_selection.cross_val_score(reg,reduced_x[:,:i],train_y, cv=cv, scoring ='neg_mean_squared_error').mean()\n",
    "    mse.append(score)\n",
    "    \n",
    "plt.plot(mse)\n",
    "plt.xlabel('Number of Principal Components')\n",
    "plt.ylabel('MSE')\n",
    "plt.title('hp')"
   ]
  },
  {
   "cell_type": "code",
   "execution_count": null,
   "id": "19510651",
   "metadata": {
    "scrolled": true
   },
   "outputs": [],
   "source": [
    "print('The smallest error could be obtained when select ', mse.index(min(mse)), 'features')\n",
    "print('The smallest error is ', min(mse))"
   ]
  },
  {
   "cell_type": "markdown",
   "id": "a860590b",
   "metadata": {},
   "source": [
    "### j. Boosting tree"
   ]
  },
  {
   "cell_type": "code",
   "execution_count": null,
   "id": "72c04858",
   "metadata": {},
   "outputs": [],
   "source": [
    "alphas = 10**np.linspace(10,-2)*0.5\n",
    "\n",
    "mse_dict = {}\n",
    "\n",
    "for alpha in alphas:\n",
    "    fold = KFold(n_splits=5)\n",
    "    mse = []\n",
    "    for train, test in fold.split(CC_train_imp):\n",
    "        train_x_new = CC_train_imp.iloc[train.tolist(),:-1]\n",
    "        train_y_new = CC_train_imp.iloc[train.tolist(),-1:]\n",
    "        clf = xgboost.XGBRegressor(reg_alpha = alpha)\n",
    "        clf.fit(train_x,train_y)\n",
    "        pred = clf.predict(test_x)\n",
    "        mse.append(mean_squared_error(test_y,pred))\n",
    "   \n",
    "    mse_dict[alpha] = np.mean(mse)"
   ]
  },
  {
   "cell_type": "code",
   "execution_count": null,
   "id": "8a17ad78",
   "metadata": {},
   "outputs": [],
   "source": [
    "optimal_a = min(mse_dict,key=mse_dict.get)"
   ]
  },
  {
   "cell_type": "code",
   "execution_count": null,
   "id": "d3dd5c9e",
   "metadata": {},
   "outputs": [],
   "source": []
  },
  {
   "cell_type": "code",
   "execution_count": null,
   "id": "c0cdd153",
   "metadata": {},
   "outputs": [],
   "source": []
  },
  {
   "cell_type": "code",
   "execution_count": null,
   "id": "142dbb14",
   "metadata": {},
   "outputs": [],
   "source": []
  },
  {
   "cell_type": "code",
   "execution_count": null,
   "id": "588c60d0",
   "metadata": {},
   "outputs": [],
   "source": []
  },
  {
   "cell_type": "code",
   "execution_count": null,
   "id": "e21ddede",
   "metadata": {},
   "outputs": [],
   "source": []
  },
  {
   "cell_type": "code",
   "execution_count": null,
   "id": "a90da081",
   "metadata": {},
   "outputs": [],
   "source": []
  }
 ],
 "metadata": {
  "kernelspec": {
   "display_name": "Python 3",
   "language": "python",
   "name": "python3"
  },
  "language_info": {
   "codemirror_mode": {
    "name": "ipython",
    "version": 3
   },
   "file_extension": ".py",
   "mimetype": "text/x-python",
   "name": "python",
   "nbconvert_exporter": "python",
   "pygments_lexer": "ipython3",
   "version": "3.8.8"
  }
 },
 "nbformat": 4,
 "nbformat_minor": 5
}
