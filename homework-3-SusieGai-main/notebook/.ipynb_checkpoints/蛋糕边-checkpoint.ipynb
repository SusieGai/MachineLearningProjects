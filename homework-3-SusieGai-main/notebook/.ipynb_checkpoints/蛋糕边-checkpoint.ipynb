{
 "cells": [
  {
   "cell_type": "code",
   "execution_count": null,
   "id": "6ed62748",
   "metadata": {},
   "outputs": [],
   "source": [
    "#features\n",
    "instance_num = 1\n",
    "feature_dict = {}\n",
    "for key, dataset in df.items():\n",
    "    feature_list = [instance_num]\n",
    "    for i in range(1,dataset.shape[1]):\n",
    "        column = dataset.iloc[:,i]\n",
    "        feature_list.append (column.min())\n",
    "        feature_list.append (column.max())\n",
    "        feature_list.append (column.mean())\n",
    "        feature_list.append (column.median())\n",
    "        feature_list.append (column.std())\n",
    "        feature_list.append (column.quantile(0.25))\n",
    "        feature_list.append (column.quantile(0.75))\n",
    "        #print (len(feature_list))\n",
    "    instance_num+=1\n",
    "    feature_dict [key]= feature_list\n",
    "    \n",
    "#name_list\n",
    "\n",
    "name_list = ['instance']\n",
    "for i in range (1,7):\n",
    "    i = str(i)\n",
    "    name_list.append ('min'+i)\n",
    "    name_list.append ('max'+i)\n",
    "    name_list.append ('mean'+i)\n",
    "    name_list.append ('median'+i)\n",
    "    name_list.append ('standard deviation'+i)\n",
    "    name_list.append ('1st quart'+i)\n",
    "    name_list.append ('3rd quart'+i)\n",
    "    #print (len (name_list))\n",
    "\n",
    "# put then together as a df\n",
    "feature_df = pd.DataFrame.from_dict(feature_dict, orient='index', columns = name_list)\n",
    "feature_df.sort_values(by = 'instance')"
   ]
  }
 ],
 "metadata": {
  "kernelspec": {
   "display_name": "Python 3 (ipykernel)",
   "language": "python",
   "name": "python3"
  },
  "language_info": {
   "codemirror_mode": {
    "name": "ipython",
    "version": 3
   },
   "file_extension": ".py",
   "mimetype": "text/x-python",
   "name": "python",
   "nbconvert_exporter": "python",
   "pygments_lexer": "ipython3",
   "version": "3.9.7"
  }
 },
 "nbformat": 4,
 "nbformat_minor": 5
}
